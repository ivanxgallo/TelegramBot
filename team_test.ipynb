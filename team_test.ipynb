{
 "cells": [
  {
   "cell_type": "code",
   "execution_count": 4,
   "metadata": {},
   "outputs": [],
   "source": [
    "import numpy as np\n",
    "import pandas as pd\n",
    "from team_optimazer import *"
   ]
  },
  {
   "cell_type": "code",
   "execution_count": 42,
   "metadata": {},
   "outputs": [],
   "source": [
    "jugadores = [\n",
    "    {\"nombre\": \"Vito\", \"defensa\": 5, \"medio\": 8, \"ataque\": 7},\n",
    "    {\"nombre\": \"Dolo\", \"defensa\": 5, \"medio\": 5, \"ataque\": 4},\n",
    "    {\"nombre\": \"Valenzuela\", \"defensa\": 8, \"medio\": 7, \"ataque\": 5},\n",
    "    {\"nombre\": \"Jano\", \"defensa\": 7, \"medio\": 5, \"ataque\": 4},\n",
    "    {\"nombre\": \"Capullo\", \"defensa\": 7, \"medio\": 6, \"ataque\": 6},\n",
    "    {\"nombre\": \"Reyes\", \"defensa\": 3, \"medio\": 4, \"ataque\": 7},\n",
    "    {\"nombre\": \"Migue\", \"defensa\": 6, \"medio\": 7, \"ataque\": 7},\n",
    "    {\"nombre\": \"Rodro\", \"defensa\": 5, \"medio\": 6, \"ataque\": 9},\n",
    "    {\"nombre\": \"Nacho\", \"defensa\": 5, \"medio\": 7, \"ataque\": 9},\n",
    "    {\"nombre\": \"Gallo\", \"defensa\": 9, \"medio\": 8, \"ataque\": 7},\n",
    "    {\"nombre\": \"Koke\", \"defensa\": 5, \"medio\": 6, \"ataque\": 6},\n",
    "    {\"nombre\": \"Juanka\", \"defensa\": 6, \"medio\": 7, \"ataque\": 7}\n",
    "    #{\"nombre\": \"Arquero\", \"defensa\": 8, \"medio\": 6, \"ataque\": 3},\n",
    "    #{\"nombre\": \"Adolfo\", \"defensa\": 9, \"medio\": 5, \"ataque\": 2}\n",
    "]"
   ]
  },
  {
   "cell_type": "code",
   "execution_count": 43,
   "metadata": {},
   "outputs": [],
   "source": [
    "teams = OptimizeTeam(jugadores)"
   ]
  },
  {
   "cell_type": "code",
   "execution_count": 45,
   "metadata": {},
   "outputs": [
    {
     "name": "stdout",
     "output_type": "stream",
     "text": [
      "Con un score de:  0.016651881600871832 , un resultado optimo podría ser...\n",
      "El equipo 1 (prom = 6.232315440310131) es:\n",
      "1 .  Vito\n",
      "2 .  Capullo\n",
      "3 .  Reyes\n",
      "4 .  Migue\n",
      "5 .  Rodro\n",
      "6 .  Juanka\n",
      "El equipo 2 (prom = 6.2156635587092595) es:\n",
      "1 .  Dolo\n",
      "2 .  Valenzuela\n",
      "3 .  Jano\n",
      "4 .  Nacho\n",
      "5 .  Gallo\n",
      "6 .  Koke\n"
     ]
    }
   ],
   "source": [
    "teams.show_opt_teams()"
   ]
  },
  {
   "cell_type": "code",
   "execution_count": null,
   "metadata": {},
   "outputs": [],
   "source": []
  }
 ],
 "metadata": {
  "kernelspec": {
   "display_name": "migtra3.10",
   "language": "python",
   "name": "python3"
  },
  "language_info": {
   "codemirror_mode": {
    "name": "ipython",
    "version": 3
   },
   "file_extension": ".py",
   "mimetype": "text/x-python",
   "name": "python",
   "nbconvert_exporter": "python",
   "pygments_lexer": "ipython3",
   "version": "3.10.12"
  },
  "orig_nbformat": 4
 },
 "nbformat": 4,
 "nbformat_minor": 2
}
